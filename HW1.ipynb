{
 "cells": [
  {
   "cell_type": "markdown",
   "metadata": {},
   "source": [
    "### Q1: 各使用一行程式碼印出下列兩種結果\n",
    "<blockquote>\n",
    "1.<br>\n",
    "Hello, my student id is R07574809.<br>\n",
    "My name is Peter.<br>\n",
    "\n",
    "2.<br>\n",
    "Hello, my student id is R07574809. My name is Peter.<br>\n",
    "</blockquote>"
   ]
  },
  {
   "cell_type": "code",
   "execution_count": 1,
   "metadata": {},
   "outputs": [],
   "source": [
    "#write your code here"
   ]
  },
  {
   "cell_type": "markdown",
   "metadata": {},
   "source": [
    "### Q2: 判斷基數偶數\n",
    "<b>輸入說明<br></b>\n",
    "輸入一個整數<br>\n",
    "<b>輸出說明 <br></b>\n",
    "輸出 odd或 even<br>\n",
    "不合法的輸入則輸出E。<br>\n",
    "\n",
    "<blockquote>\n",
    "輸入範例:<br>\n",
    "3<br>\n",
    "輸出範例:<br>\n",
    "odd<br>\n",
    "\n",
    "輸入範例:<br>\n",
    "6<br>\n",
    "輸出範例:<br>\n",
    "even<br>\n",
    "</blockquote>"
   ]
  },
  {
   "cell_type": "code",
   "execution_count": 2,
   "metadata": {},
   "outputs": [],
   "source": [
    "#write your code here"
   ]
  },
  {
   "cell_type": "markdown",
   "metadata": {},
   "source": [
    "### Q3: 計算總成績、平均 \n",
    "<b>說明：<br></b>\n",
    "某一學生修國文、計算機概論、計算機程式設計三科，使用者輸入名字（一個char）、學號（int）、三科成績(int)。<br>\n",
    "(1) 計算學生總成績、平均。<br>\n",
    "(2) 印出名字、學號、總成績、平均。<br>\n",
    "(3) 每個科目分數為0~100分。<br>\n",
    "\n",
    "--------------------------------------------------------------------------------------------------------------------------- \n",
    "<b>輸出說明 <br></b>\n",
    "輸出平均分數(整數)。若輸入格式有誤則輸出「輸入格式錯誤」。 <br>\n",
    "\n",
    "--------------------------------------------------------------------------------------------------------------------------- \n",
    "<blockquote>\n",
    "Input 1:<br>\n",
    "Miso<br>\n",
    "905067<br>\n",
    "100<br>\n",
    "100<br>\n",
    "100<br>\n",
    "\n",
    "Output 1:<br>\n",
    "Name:Miso<br>\n",
    "ID:905067<br>\n",
    "Average:100<br>\n",
    "Total:300<br>\n",
    "\n",
    "Input 2: 若輸入不符合格式 即停止程式並輸出「輸入格式錯誤」<br>\n",
    "Miso<br>\n",
    "905067<br>\n",
    "100<br>\n",
    "a<br>\n",
    "\n",
    "Output 2:<br>\n",
    "輸入格式錯誤<br>\n",
    "</blockquote>"
   ]
  },
  {
   "cell_type": "code",
   "execution_count": null,
   "metadata": {},
   "outputs": [],
   "source": [
    "#write your code here"
   ]
  }
 ],
 "metadata": {
  "kernelspec": {
   "display_name": "Python 3",
   "language": "python",
   "name": "python3"
  },
  "language_info": {
   "codemirror_mode": {
    "name": "ipython",
    "version": 3
   },
   "file_extension": ".py",
   "mimetype": "text/x-python",
   "name": "python",
   "nbconvert_exporter": "python",
   "pygments_lexer": "ipython3",
   "version": "3.7.5"
  }
 },
 "nbformat": 4,
 "nbformat_minor": 2
}
